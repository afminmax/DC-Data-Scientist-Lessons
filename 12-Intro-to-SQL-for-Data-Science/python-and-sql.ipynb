{
 "cells": [
  {
   "cell_type": "markdown",
   "metadata": {},
   "source": [
    "# Introduction to SQL and Python"
   ]
  },
  {
   "cell_type": "code",
   "execution_count": 2,
   "metadata": {},
   "outputs": [
    {
     "name": "stdout",
     "output_type": "stream",
     "text": [
      "SQL Server\n",
      "SQL Server Native Client 11.0\n",
      "SQL Server Native Client RDA 11.0\n",
      "ODBC Driver 17 for SQL Server\n"
     ]
    }
   ],
   "source": [
    "import pyodbc\n",
    "for driver in pyodbc.drivers():\n",
    "    print(driver)\n",
    "# Some other example server values are\n",
    "# server = 'localhost\\sqlexpress' # for a named instance\n",
    "# server = 'myserver,port' # to specify an alternate port"
   ]
  },
  {
   "cell_type": "code",
   "execution_count": 3,
   "metadata": {},
   "outputs": [],
   "source": [
    "server = '------' \n",
    "database = '----' \n",
    "username = '--' \n",
    "password = '-----' \n",
    "cnxn = pyodbc.connect('DRIVER={ODBC Driver 17 for SQL Server};SERVER='+server+'; DATABASE='+database+'; UID='+username+';PWD='+ password)\n",
    "cursor = cnxn.cursor()"
   ]
  },
  {
   "cell_type": "code",
   "execution_count": 6,
   "metadata": {},
   "outputs": [
    {
     "name": "stdout",
     "output_type": "stream",
     "text": [
      "('&BB8DAAA=', \"Augur's Torch\", 'Anchorage Waypoint')\n",
      "('&BMwCAAA=', 'Breth Ayahusasca', \"Bard's Waypoint\")\n",
      "('&BIUCAAA=', 'Blue Ice Shining Waypoint', 'Blue Ice Shining Waypoint')\n",
      "('&BCEDAAA=', 'Caer Shadowfain', 'Caer Shadowfain Waypoint')\n",
      "('&BH8HAAA=', 'Blue Oasis', 'Camp Resolve Waypoint')\n",
      "('&BH8HAAA=', 'Camp Resolve Waypoint', 'Camp Resolve Waypoint')\n",
      "('&BFQGAAA=', 'Rocklair', 'Cascade Bridge Waypoint')\n",
      "('&BGABAAA=', 'Bovarin Estate', 'Charradis Estate Waypoint')\n",
      "('&BBEAAAA=', 'Garenhoff', 'Darkwound Waypoint')\n",
      "('&BEgAAAA=', 'Desider Atum Waypoint', 'Desider Atum Waypoint')\n",
      "('&BHsBAAA=', 'Dolyak Pass Waypoint', 'Dolyak Pass Waypoint')\n",
      "('&BO4CAAA=', 'Armada Harbor', 'Fort Trinity Waypoint')\n",
      "('&BO4CAAA=', 'Fort Trinity Waypoint', 'Fort Trinity Waypoint')\n",
      "('&BNMCAAA=', \"Gallant's Folly\", 'Gauntlet Waypoint')\n",
      "('&BFACAAA=', 'Balddistead', 'Gentle River Waypoint')\n",
      "('&BNMAAAA=', 'Hawkgates Waypoint', 'Hawkgates Waypoint')\n",
      "('&BEwDAAA=', 'Lionguard Waystation Waypoint', 'Lionguard Waystation Waypoint')\n",
      "('&BLQAAAA=', 'Mennerheim', \"Lornar's Waypoint\")\n",
      "('&BDoBAAA=', 'Mabon Waypoint', 'Mabon Waypoint')\n",
      "('&BKYBAAA=', 'Marshwatch Haven Waypoint', 'Marshwatch Haven Waypoint')\n",
      "('&BLQDAAA=', 'Swampwatch Post', 'Mire Waypoint')\n",
      "('&BNUGAAA=', 'Pearl Islet Waypoint', 'Pearl Islet Waypoint')\n",
      "('&BNIEAAA=', 'Rally Waypoint', 'Rally Waypoint')\n",
      "('&BKcBAAA=', 'Mudflat Camp', 'Remanda Waypoint')\n",
      "('&BJcHAAA=', 'Repair Station', 'Repair Station Waypoint')\n",
      "('&BIgHAAA=', 'Restoration Refuge', 'Restoration Refuge Waypoint')\n",
      "('&BIMCAAA=', 'Ridgerock Camp Waypoint', 'Ridgerock Camp Waypoint')\n",
      "('&BB4CAAA=', 'Haymal Gore', 'Rustbowl Waypoint')\n",
      "('&BEUDAAA=', 'Altar Brook Trading Post', 'Scaver Waypoint')\n",
      "('&BKYAAAA=', 'Shieldbluff Waypoint', 'Shieldbluff Waypoint')\n",
      "('&BCECAAA=', 'Snow Ridge Camp Waypoint', 'Snow Ridge Camp Waypoint')\n",
      "('&BIMBAAA=', 'Temperus Point Waypoint', 'Temperus Point Waypoint')\n",
      "('&BHoHAAA=', 'Town of Prosperity', 'Town of Prosperity')\n",
      "('&BGQCAAA=', \"Travelen's Waypoint\", \"Travelen's Waypoint\")\n",
      "('&BPwBAAA=', 'Ferrusatos Village', \"Twin Sister's Waypoint\")\n",
      "('&BJIBAAA=', 'Vigil Keep Waypoint', 'Vigil Keep Waypoint')\n",
      "('&BOcBAAA=', 'Village of Scalecatch Waypoint', 'Village of Scalecatch Waypoint')\n",
      "('&BIYHAAA=', \"Azarr's Arbor\", 'Vine Bridge Waypoint')\n",
      "('&BKgCAAA=', 'Shelter Docks', 'Waste Hollows Waypoint')\n",
      "('&BKgCAAA=', 'Waste Hollows Waypoint', 'Waste Hollows Waypoint')\n"
     ]
    }
   ],
   "source": [
    "cursor.execute('SELECT * FROM psna')\n",
    "for row in cursor:\n",
    "    print(row)"
   ]
  },
  {
   "cell_type": "code",
   "execution_count": null,
   "metadata": {},
   "outputs": [],
   "source": []
  }
 ],
 "metadata": {
  "kernelspec": {
   "display_name": "Python 3",
   "language": "python",
   "name": "python3"
  },
  "language_info": {
   "codemirror_mode": {
    "name": "ipython",
    "version": 3
   },
   "file_extension": ".py",
   "mimetype": "text/x-python",
   "name": "python",
   "nbconvert_exporter": "python",
   "pygments_lexer": "ipython3",
   "version": "3.7.4"
  }
 },
 "nbformat": 4,
 "nbformat_minor": 4
}
