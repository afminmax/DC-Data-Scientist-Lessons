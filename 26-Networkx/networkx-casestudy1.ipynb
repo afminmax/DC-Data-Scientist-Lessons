{
 "cells": [
  {
   "cell_type": "code",
   "execution_count": 1,
   "metadata": {},
   "outputs": [],
   "source": [
    "# Import necessary modules\n",
    "import matplotlib.pyplot as plt\n",
    "import networkx as nx"
   ]
  },
  {
   "cell_type": "code",
   "execution_count": null,
   "metadata": {},
   "outputs": [],
   "source": [
    "# Import necessary modules\n",
    "import matplotlib.pyplot as plt\n",
    "import networkx as nx\n",
    "\n",
    "# Plot the degree distribution of the GitHub collaboration network\n",
    "plt.hist(list(nx.degree_centrality(G).values()))\n",
    "plt.show()"
   ]
  },
  {
   "cell_type": "code",
   "execution_count": null,
   "metadata": {},
   "outputs": [],
   "source": [
    "# Import necessary modules\n",
    "import matplotlib.pyplot as plt\n",
    "import networkx as nx\n",
    "\n",
    "# Plot the degree distribution of the GitHub collaboration network\n",
    "plt.hist(list(nx.betweenness_centrality(G).values()))\n",
    "plt.show()\n"
   ]
  },
  {
   "cell_type": "code",
   "execution_count": null,
   "metadata": {},
   "outputs": [],
   "source": [
    "# Import necessary modules\n",
    "from nxviz import MatrixPlot\n",
    "import matplotlib.pyplot as plt\n",
    "\n",
    "# Calculate the largest connected component subgraph: largest_ccs\n",
    "largest_ccs = sorted(nx.connected_component_subgraphs(G), key=lambda x: len(x))[-1]\n",
    "\n",
    "# Create the customized MatrixPlot object: h\n",
    "h = MatrixPlot(graph=largest_ccs, node_grouping='grouping')\n",
    "\n",
    "# Draw the MatrixPlot to the screen\n",
    "h.draw()\n",
    "plt.show()"
   ]
  },
  {
   "cell_type": "code",
   "execution_count": null,
   "metadata": {},
   "outputs": [],
   "source": [
    "# Import necessary modules\n",
    "from nxviz.plots import ArcPlot\n",
    "import matplotlib.pyplot as plt\n",
    "\n",
    "# Iterate over all the nodes in G, including the metadata\n",
    "for n, d in G.nodes(data=True):\n",
    "\n",
    "    # Calculate the degree of each node: G.node[n]['degree']\n",
    "    G.node[n]['degree'] = nx.degree(G, n)\n",
    "\n",
    "# Create the ArcPlot object: a\n",
    "a = ArcPlot(graph=G, node_order='degree')\n",
    "\n",
    "# Draw the ArcPlot to the screen\n",
    "a.draw()\n",
    "plt.show()"
   ]
  },
  {
   "cell_type": "code",
   "execution_count": null,
   "metadata": {},
   "outputs": [],
   "source": [
    "# Import necessary modules\n",
    "from nxviz import CircosPlot\n",
    "import matplotlib.pyplot as plt\n",
    "\n",
    "# Iterate over all the nodes, including the metadata\n",
    "for n, d in G.nodes(data=True):\n",
    "\n",
    "    # Calculate the degree of each node: G.node[n]['degree']\n",
    "     G.node[n]['degree'] = nx.degree(G, n)\n",
    "\n",
    "# Create the CircosPlot object: c\n",
    "c = CircosPlot(graph=G, node_order='degree', node_color='grouping', node_grouping='grouping')\n",
    "\n",
    "# Draw the CircosPlot object to the screen\n",
    "c.draw()\n",
    "plt.show()"
   ]
  },
  {
   "cell_type": "markdown",
   "metadata": {},
   "source": [
    "<img src = 'circos1.svg'>"
   ]
  },
  {
   "cell_type": "code",
   "execution_count": null,
   "metadata": {},
   "outputs": [],
   "source": [
    "# Calculate the maximal cliques in G: cliques\n",
    "cliques = nx.find_cliques(G)\n",
    "\n",
    "# Count and print the number of maximal cliques in G\n",
    "print(len(list(cliques)))"
   ]
  },
  {
   "cell_type": "code",
   "execution_count": null,
   "metadata": {},
   "outputs": [],
   "source": [
    "# Import necessary modules\n",
    "import networkx as nx\n",
    "from nxviz import CircosPlot\n",
    "import matplotlib.pyplot as plt\n",
    "\n",
    "# Find the author(s) that are part of the largest maximal clique: largest_clique\n",
    "largest_clique = sorted(nx.find_cliques(G), key=lambda x:len(x))[-1]\n",
    "\n",
    "# Create the subgraph of the largest_clique: G_lc\n",
    "G_lc = G.subgraph(largest_clique)\n",
    "\n",
    "# Create the CircosPlot object: c\n",
    "c = CircosPlot(G_lc)\n",
    "\n",
    "# Draw the CircosPlot to the screen\n",
    "c.draw()\n",
    "plt.show()"
   ]
  },
  {
   "cell_type": "markdown",
   "metadata": {},
   "source": [
    "<img src='cliques1.svg'>"
   ]
  },
  {
   "cell_type": "code",
   "execution_count": null,
   "metadata": {},
   "outputs": [],
   "source": []
  }
 ],
 "metadata": {
  "kernelspec": {
   "display_name": "Python 3",
   "language": "python",
   "name": "python3"
  },
  "language_info": {
   "codemirror_mode": {
    "name": "ipython",
    "version": 3
   },
   "file_extension": ".py",
   "mimetype": "text/x-python",
   "name": "python",
   "nbconvert_exporter": "python",
   "pygments_lexer": "ipython3",
   "version": "3.7.4"
  }
 },
 "nbformat": 4,
 "nbformat_minor": 4
}
