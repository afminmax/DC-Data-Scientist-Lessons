{
 "cells": [
  {
   "cell_type": "markdown",
   "metadata": {},
   "source": [
    "# FACNCY WORDS\n",
    "Getting familiar with API's"
   ]
  },
  {
   "cell_type": "code",
   "execution_count": 2,
   "metadata": {},
   "outputs": [],
   "source": [
    "import json\n",
    "import requests"
   ]
  },
  {
   "cell_type": "markdown",
   "metadata": {},
   "source": [
    "## Wordplay!"
   ]
  },
  {
   "cell_type": "code",
   "execution_count": 38,
   "metadata": {},
   "outputs": [],
   "source": [
    "word = {\"rel_rhy\":\"twinkle\"}\n",
    "request = requests.get('https://api.datamuse.com/words', word)"
   ]
  },
  {
   "cell_type": "code",
   "execution_count": 39,
   "metadata": {},
   "outputs": [],
   "source": [
    "rhyming_words_json = request.json()"
   ]
  },
  {
   "cell_type": "code",
   "execution_count": 40,
   "metadata": {},
   "outputs": [
    {
     "name": "stdout",
     "output_type": "stream",
     "text": [
      "Typo! The Rhyming words are:\n",
      "[{'word': 'sprinkle', 'score': 894, 'numSyllables': 2}, {'word': 'wrinkle', 'score': 745, 'numSyllables': 2}, {'word': 'tinkle', 'score': 521, 'numSyllables': 2}, {'word': 'winkle', 'score': 517, 'numSyllables': 2}, {'word': 'hinkle', 'score': 393, 'numSyllables': 2}, {'word': 'bullwinkle', 'score': 367, 'numSyllables': 3}, {'word': 'trinkle', 'score': 147, 'numSyllables': 2}, {'word': 'finkel', 'score': 123, 'numSyllables': 2}, {'word': 'finkle', 'score': 92, 'numSyllables': 2}, {'word': 'kinkle', 'score': 90, 'numSyllables': 2}, {'word': 'rip van winkle', 'score': 63, 'numSyllables': 4}, {'word': 'winkel', 'score': 53, 'numSyllables': 2}, {'word': 'kinkel', 'score': 50, 'numSyllables': 2}, {'word': 'schinkel', 'score': 40, 'numSyllables': 2}, {'word': 'dinkel', 'score': 33, 'numSyllables': 2}, {'word': 'hinkel', 'score': 29, 'numSyllables': 2}, {'word': 'shinkle', 'score': 24, 'numSyllables': 2}, {'word': 'garfinkle', 'score': 11, 'numSyllables': 3}, {'word': 'think ill', 'score': 11, 'numSyllables': 2}, {'word': 'bulwinkle', 'numSyllables': 3}, {'word': 'finckle', 'numSyllables': 2}, {'word': 'krenwinkle', 'numSyllables': 3}, {'word': 'minkel', 'numSyllables': 2}, {'word': 'pink hill', 'numSyllables': 2}, {'word': 'sprinkel', 'numSyllables': 2}, {'word': 'vanwinkle', 'numSyllables': 3}]\n"
     ]
    }
   ],
   "source": [
    "print(\"Typo! The Rhyming words are:\")\n",
    "\n",
    "print(rhyming_words_json)\n"
   ]
  },
  {
   "cell_type": "markdown",
   "metadata": {},
   "source": [
    "This json dump is ugly. Let's make it look a bit more organized."
   ]
  },
  {
   "cell_type": "code",
   "execution_count": 41,
   "metadata": {},
   "outputs": [
    {
     "name": "stdout",
     "output_type": "stream",
     "text": [
      "sprinkle\n",
      "wrinkle\n",
      "tinkle\n",
      "winkle\n",
      "hinkle\n",
      "bullwinkle\n",
      "trinkle\n",
      "finkel\n",
      "finkle\n",
      "kinkle\n",
      "rip van winkle\n",
      "winkel\n",
      "kinkel\n",
      "schinkel\n",
      "dinkel\n",
      "hinkel\n",
      "shinkle\n",
      "garfinkle\n",
      "think ill\n",
      "bulwinkle\n",
      "finckle\n",
      "krenwinkle\n",
      "minkel\n",
      "pink hill\n",
      "sprinkel\n",
      "vanwinkle\n"
     ]
    }
   ],
   "source": [
    "for key in rhyming_words_json[0:]:\n",
    "    print(key['word'])"
   ]
  },
  {
   "cell_type": "code",
   "execution_count": null,
   "metadata": {},
   "outputs": [],
   "source": []
  }
 ],
 "metadata": {
  "kernelspec": {
   "display_name": "Python 3",
   "language": "python",
   "name": "python3"
  },
  "language_info": {
   "codemirror_mode": {
    "name": "ipython",
    "version": 3
   },
   "file_extension": ".py",
   "mimetype": "text/x-python",
   "name": "python",
   "nbconvert_exporter": "python",
   "pygments_lexer": "ipython3",
   "version": "3.7.4"
  }
 },
 "nbformat": 4,
 "nbformat_minor": 4
}
