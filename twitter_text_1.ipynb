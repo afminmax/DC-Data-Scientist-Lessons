{
  "nbformat": 4,
  "nbformat_minor": 0,
  "metadata": {
    "colab": {
      "name": "twitter-text-1.ipynb",
      "version": "0.3.2",
      "provenance": [],
      "include_colab_link": true
    },
    "kernelspec": {
      "name": "python3",
      "display_name": "Python 3"
    }
  },
  "cells": [
    {
      "cell_type": "markdown",
      "metadata": {
        "id": "view-in-github",
        "colab_type": "text"
      },
      "source": [
        "<a href=\"https://colab.research.google.com/github/afminmax/dc-imd-python/blob/master/twitter_text_1.ipynb\" target=\"_parent\"><img src=\"https://colab.research.google.com/assets/colab-badge.svg\" alt=\"Open In Colab\"/></a>"
      ]
    },
    {
      "cell_type": "markdown",
      "metadata": {
        "id": "f4G37lHwltQA",
        "colab_type": "text"
      },
      "source": [
        "## In this example, I demonstrate collecting some data (from twitter) and doing a simple analysis."
      ]
    },
    {
      "cell_type": "markdown",
      "metadata": {
        "id": "08Dp9jupYhsc",
        "colab_type": "text"
      },
      "source": [
        "### Step 1: Import dependencies"
      ]
    },
    {
      "cell_type": "code",
      "metadata": {
        "id": "w16IaKeZYNRV",
        "colab_type": "code",
        "colab": {}
      },
      "source": [
        "import pandas as pd\n",
        "from google.colab import drive ## allow colab to view files in my google drive\n",
        "drive.mount('/content/gdrive')\n"
      ],
      "execution_count": 0,
      "outputs": []
    },
    {
      "cell_type": "markdown",
      "metadata": {
        "id": "PIBb3h3DYn5M",
        "colab_type": "text"
      },
      "source": [
        "### Step 2: Get the first twitter dataset from a csv file\n",
        "Note, there are some intermediate steps that setup and grant access to the google drive the dataset is on. Omitted for obvious security reasons."
      ]
    },
    {
      "cell_type": "code",
      "metadata": {
        "id": "FNQTnSuXkpbp",
        "colab_type": "code",
        "colab": {}
      },
      "source": [
        "## Read the data with the Pandas data reader\n",
        "df = pd.read_csv('gdrive/My Drive/Colab Notebooks/tweets.csv')"
      ],
      "execution_count": 0,
      "outputs": []
    },
    {
      "cell_type": "markdown",
      "metadata": {
        "id": "m0SpK9JPmZnF",
        "colab_type": "text"
      },
      "source": [
        "### Step 3: Let's take a peek at the data. What are the columns?\n",
        "We care about columns, it's metadata for our data!"
      ]
    },
    {
      "cell_type": "code",
      "metadata": {
        "id": "0bXTG3Ggmli1",
        "colab_type": "code",
        "colab": {
          "base_uri": "https://localhost:8080/",
          "height": 555
        },
        "outputId": "d214ee68-a423-4e42-ce18-243a764123e5"
      },
      "source": [
        "for col in df.columns:\n",
        "  print(col)"
      ],
      "execution_count": 18,
      "outputs": [
        {
          "output_type": "stream",
          "text": [
            "contributors\n",
            "coordinates\n",
            "created_at\n",
            "entities\n",
            "extended_entities\n",
            "favorite_count\n",
            "favorited\n",
            "filter_level\n",
            "geo\n",
            "id\n",
            "id_str\n",
            "in_reply_to_screen_name\n",
            "in_reply_to_status_id\n",
            "in_reply_to_status_id_str\n",
            "in_reply_to_user_id\n",
            "in_reply_to_user_id_str\n",
            "is_quote_status\n",
            "lang\n",
            "place\n",
            "possibly_sensitive\n",
            "quoted_status\n",
            "quoted_status_id\n",
            "quoted_status_id_str\n",
            "retweet_count\n",
            "retweeted\n",
            "retweeted_status\n",
            "source\n",
            "text\n",
            "timestamp_ms\n",
            "truncated\n",
            "user\n"
          ],
          "name": "stdout"
        }
      ]
    },
    {
      "cell_type": "markdown",
      "metadata": {
        "id": "R8J8Jflim4GS",
        "colab_type": "text"
      },
      "source": [
        "### Step 4: Now let's take a peek at some actual data."
      ]
    },
    {
      "cell_type": "code",
      "metadata": {
        "id": "eH0RYSTxm8dj",
        "colab_type": "code",
        "colab": {
          "base_uri": "https://localhost:8080/",
          "height": 413
        },
        "outputId": "cb0f1456-6f80-4785-c081-f91233a1d139"
      },
      "source": [
        "df.head()"
      ],
      "execution_count": 19,
      "outputs": [
        {
          "output_type": "execute_result",
          "data": {
            "text/html": [
              "<div>\n",
              "<style scoped>\n",
              "    .dataframe tbody tr th:only-of-type {\n",
              "        vertical-align: middle;\n",
              "    }\n",
              "\n",
              "    .dataframe tbody tr th {\n",
              "        vertical-align: top;\n",
              "    }\n",
              "\n",
              "    .dataframe thead th {\n",
              "        text-align: right;\n",
              "    }\n",
              "</style>\n",
              "<table border=\"1\" class=\"dataframe\">\n",
              "  <thead>\n",
              "    <tr style=\"text-align: right;\">\n",
              "      <th></th>\n",
              "      <th>contributors</th>\n",
              "      <th>coordinates</th>\n",
              "      <th>created_at</th>\n",
              "      <th>entities</th>\n",
              "      <th>extended_entities</th>\n",
              "      <th>favorite_count</th>\n",
              "      <th>favorited</th>\n",
              "      <th>filter_level</th>\n",
              "      <th>geo</th>\n",
              "      <th>id</th>\n",
              "      <th>id_str</th>\n",
              "      <th>in_reply_to_screen_name</th>\n",
              "      <th>in_reply_to_status_id</th>\n",
              "      <th>in_reply_to_status_id_str</th>\n",
              "      <th>in_reply_to_user_id</th>\n",
              "      <th>in_reply_to_user_id_str</th>\n",
              "      <th>is_quote_status</th>\n",
              "      <th>lang</th>\n",
              "      <th>place</th>\n",
              "      <th>possibly_sensitive</th>\n",
              "      <th>quoted_status</th>\n",
              "      <th>quoted_status_id</th>\n",
              "      <th>quoted_status_id_str</th>\n",
              "      <th>retweet_count</th>\n",
              "      <th>retweeted</th>\n",
              "      <th>retweeted_status</th>\n",
              "      <th>source</th>\n",
              "      <th>text</th>\n",
              "      <th>timestamp_ms</th>\n",
              "      <th>truncated</th>\n",
              "      <th>user</th>\n",
              "    </tr>\n",
              "  </thead>\n",
              "  <tbody>\n",
              "    <tr>\n",
              "      <th>0</th>\n",
              "      <td>NaN</td>\n",
              "      <td>NaN</td>\n",
              "      <td>Tue Mar 29 23:40:17 +0000 2016</td>\n",
              "      <td>{'hashtags': [], 'user_mentions': [{'screen_na...</td>\n",
              "      <td>{'media': [{'sizes': {'large': {'w': 1024, 'h'...</td>\n",
              "      <td>0</td>\n",
              "      <td>False</td>\n",
              "      <td>low</td>\n",
              "      <td>NaN</td>\n",
              "      <td>714960401759387648</td>\n",
              "      <td>714960401759387648</td>\n",
              "      <td>NaN</td>\n",
              "      <td>NaN</td>\n",
              "      <td>NaN</td>\n",
              "      <td>NaN</td>\n",
              "      <td>NaN</td>\n",
              "      <td>False</td>\n",
              "      <td>en</td>\n",
              "      <td>NaN</td>\n",
              "      <td>False</td>\n",
              "      <td>NaN</td>\n",
              "      <td>NaN</td>\n",
              "      <td>NaN</td>\n",
              "      <td>0</td>\n",
              "      <td>False</td>\n",
              "      <td>{'retweeted': False, 'text': \".@krollbondratin...</td>\n",
              "      <td>&lt;a href=\"http://twitter.com\" rel=\"nofollow\"&gt;Tw...</td>\n",
              "      <td>RT @bpolitics: .@krollbondrating's Christopher...</td>\n",
              "      <td>1459294817758</td>\n",
              "      <td>False</td>\n",
              "      <td>{'utc_offset': 3600, 'profile_image_url_https'...</td>\n",
              "    </tr>\n",
              "    <tr>\n",
              "      <th>1</th>\n",
              "      <td>NaN</td>\n",
              "      <td>NaN</td>\n",
              "      <td>Tue Mar 29 23:40:17 +0000 2016</td>\n",
              "      <td>{'hashtags': [{'text': 'cruzsexscandal', 'indi...</td>\n",
              "      <td>{'media': [{'sizes': {'large': {'w': 500, 'h':...</td>\n",
              "      <td>0</td>\n",
              "      <td>False</td>\n",
              "      <td>low</td>\n",
              "      <td>NaN</td>\n",
              "      <td>714960401977319424</td>\n",
              "      <td>714960401977319424</td>\n",
              "      <td>NaN</td>\n",
              "      <td>NaN</td>\n",
              "      <td>NaN</td>\n",
              "      <td>NaN</td>\n",
              "      <td>NaN</td>\n",
              "      <td>False</td>\n",
              "      <td>en</td>\n",
              "      <td>NaN</td>\n",
              "      <td>False</td>\n",
              "      <td>NaN</td>\n",
              "      <td>NaN</td>\n",
              "      <td>NaN</td>\n",
              "      <td>0</td>\n",
              "      <td>False</td>\n",
              "      <td>{'retweeted': False, 'text': '@dmartosko Cruz ...</td>\n",
              "      <td>&lt;a href=\"http://twitter.com\" rel=\"nofollow\"&gt;Tw...</td>\n",
              "      <td>RT @HeidiAlpine: @dmartosko Cruz video found.....</td>\n",
              "      <td>1459294817810</td>\n",
              "      <td>False</td>\n",
              "      <td>{'utc_offset': None, 'profile_image_url_https'...</td>\n",
              "    </tr>\n",
              "    <tr>\n",
              "      <th>2</th>\n",
              "      <td>NaN</td>\n",
              "      <td>NaN</td>\n",
              "      <td>Tue Mar 29 23:40:17 +0000 2016</td>\n",
              "      <td>{'hashtags': [], 'user_mentions': [], 'symbols...</td>\n",
              "      <td>NaN</td>\n",
              "      <td>0</td>\n",
              "      <td>False</td>\n",
              "      <td>low</td>\n",
              "      <td>NaN</td>\n",
              "      <td>714960402426236928</td>\n",
              "      <td>714960402426236928</td>\n",
              "      <td>NaN</td>\n",
              "      <td>NaN</td>\n",
              "      <td>NaN</td>\n",
              "      <td>NaN</td>\n",
              "      <td>NaN</td>\n",
              "      <td>False</td>\n",
              "      <td>et</td>\n",
              "      <td>NaN</td>\n",
              "      <td>False</td>\n",
              "      <td>NaN</td>\n",
              "      <td>NaN</td>\n",
              "      <td>NaN</td>\n",
              "      <td>0</td>\n",
              "      <td>False</td>\n",
              "      <td>NaN</td>\n",
              "      <td>&lt;a href=\"http://www.facebook.com/twitter\" rel=...</td>\n",
              "      <td>Njihuni me Zonjën Trump !!! | Ekskluzive https...</td>\n",
              "      <td>1459294817917</td>\n",
              "      <td>False</td>\n",
              "      <td>{'utc_offset': 7200, 'profile_image_url_https'...</td>\n",
              "    </tr>\n",
              "    <tr>\n",
              "      <th>3</th>\n",
              "      <td>NaN</td>\n",
              "      <td>NaN</td>\n",
              "      <td>Tue Mar 29 23:40:17 +0000 2016</td>\n",
              "      <td>{'hashtags': [], 'user_mentions': [], 'symbols...</td>\n",
              "      <td>NaN</td>\n",
              "      <td>0</td>\n",
              "      <td>False</td>\n",
              "      <td>low</td>\n",
              "      <td>NaN</td>\n",
              "      <td>714960402367561730</td>\n",
              "      <td>714960402367561730</td>\n",
              "      <td>NaN</td>\n",
              "      <td>NaN</td>\n",
              "      <td>NaN</td>\n",
              "      <td>NaN</td>\n",
              "      <td>NaN</td>\n",
              "      <td>True</td>\n",
              "      <td>en</td>\n",
              "      <td>NaN</td>\n",
              "      <td>False</td>\n",
              "      <td>{'retweeted': False, 'lang': 'en', 'favorite_c...</td>\n",
              "      <td>7.149239e+17</td>\n",
              "      <td>7.149239e+17</td>\n",
              "      <td>0</td>\n",
              "      <td>False</td>\n",
              "      <td>NaN</td>\n",
              "      <td>&lt;a href=\"http://twitter.com/download/android\" ...</td>\n",
              "      <td>Your an idiot she shouldn't have tried to grab...</td>\n",
              "      <td>1459294817903</td>\n",
              "      <td>False</td>\n",
              "      <td>{'utc_offset': None, 'profile_image_url_https'...</td>\n",
              "    </tr>\n",
              "    <tr>\n",
              "      <th>4</th>\n",
              "      <td>NaN</td>\n",
              "      <td>NaN</td>\n",
              "      <td>Tue Mar 29 23:40:17 +0000 2016</td>\n",
              "      <td>{'hashtags': [], 'user_mentions': [{'screen_na...</td>\n",
              "      <td>NaN</td>\n",
              "      <td>0</td>\n",
              "      <td>False</td>\n",
              "      <td>low</td>\n",
              "      <td>NaN</td>\n",
              "      <td>714960402149416960</td>\n",
              "      <td>714960402149416960</td>\n",
              "      <td>NaN</td>\n",
              "      <td>NaN</td>\n",
              "      <td>NaN</td>\n",
              "      <td>NaN</td>\n",
              "      <td>NaN</td>\n",
              "      <td>True</td>\n",
              "      <td>en</td>\n",
              "      <td>NaN</td>\n",
              "      <td>False</td>\n",
              "      <td>NaN</td>\n",
              "      <td>NaN</td>\n",
              "      <td>NaN</td>\n",
              "      <td>0</td>\n",
              "      <td>False</td>\n",
              "      <td>{'retweeted': False, 'text': 'The anti-America...</td>\n",
              "      <td>&lt;a href=\"http://twitter.com/download/iphone\" r...</td>\n",
              "      <td>RT @AlanLohner: The anti-American D.C. elites ...</td>\n",
              "      <td>1459294817851</td>\n",
              "      <td>False</td>\n",
              "      <td>{'utc_offset': -18000, 'profile_image_url_http...</td>\n",
              "    </tr>\n",
              "  </tbody>\n",
              "</table>\n",
              "</div>"
            ],
            "text/plain": [
              "   contributors  ...                                               user\n",
              "0           NaN  ...  {'utc_offset': 3600, 'profile_image_url_https'...\n",
              "1           NaN  ...  {'utc_offset': None, 'profile_image_url_https'...\n",
              "2           NaN  ...  {'utc_offset': 7200, 'profile_image_url_https'...\n",
              "3           NaN  ...  {'utc_offset': None, 'profile_image_url_https'...\n",
              "4           NaN  ...  {'utc_offset': -18000, 'profile_image_url_http...\n",
              "\n",
              "[5 rows x 31 columns]"
            ]
          },
          "metadata": {
            "tags": []
          },
          "execution_count": 19
        }
      ]
    }
  ]
}